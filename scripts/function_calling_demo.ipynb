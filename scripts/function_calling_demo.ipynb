{
 "cells": [
  {
   "cell_type": "markdown",
   "metadata": {
    "application/vnd.databricks.v1+cell": {
     "cellMetadata": {
      "byteLimit": 2048000,
      "rowLimit": 10000
     },
     "inputWidgets": {},
     "nuid": "8b30806d-4d52-4404-b47a-6f9781e18d89",
     "showTitle": false,
     "tableResultSettingsMap": {},
     "title": ""
    }
   },
   "source": [
    "# Download libraries if required"
   ]
  },
  {
   "cell_type": "code",
   "execution_count": 0,
   "metadata": {
    "application/vnd.databricks.v1+cell": {
     "cellMetadata": {
      "byteLimit": 2048000,
      "rowLimit": 10000
     },
     "inputWidgets": {},
     "nuid": "986675c3-e4c6-4882-ae1b-cf6210570faa",
     "showTitle": false,
     "tableResultSettingsMap": {},
     "title": ""
    }
   },
   "outputs": [],
   "source": [
    "%pip install monai[fire]==1.0.0 torchvision pytorch-ignite==0.4.11 autogen-agentchat<=0.3 \n",
    "%pip install openai"
   ]
  },
  {
   "cell_type": "code",
   "execution_count": 0,
   "metadata": {
    "application/vnd.databricks.v1+cell": {
     "cellMetadata": {
      "byteLimit": 2048000,
      "rowLimit": 10000
     },
     "inputWidgets": {},
     "nuid": "5686c29c-871e-42da-a15c-ce40e0b2076b",
     "showTitle": false,
     "tableResultSettingsMap": {},
     "title": ""
    }
   },
   "outputs": [],
   "source": [
    "dbutils.library.restartPython()"
   ]
  },
  {
   "cell_type": "code",
   "execution_count": 0,
   "metadata": {
    "application/vnd.databricks.v1+cell": {
     "cellMetadata": {
      "byteLimit": 2048000,
      "rowLimit": 10000
     },
     "inputWidgets": {},
     "nuid": "436a5348-c1d2-45b1-a1c8-acfb9adac838",
     "showTitle": false,
     "tableResultSettingsMap": {},
     "title": ""
    }
   },
   "outputs": [],
   "source": [
    "# !pip install gdown\n",
    "!python -m monai.bundle download \"breast_density_classification\" --version \"0.1.0\" --bundle_dir \"./\"\n",
    "!cp -r  breast_density_classification/models ../models\n",
    "!rm -rf breast_density_classification \n",
    "!rm -rf breast_density_classification_v0.1.0.zip\n",
    "# !python -m monai.bundle download -h"
   ]
  },
  {
   "cell_type": "markdown",
   "metadata": {
    "application/vnd.databricks.v1+cell": {
     "cellMetadata": {
      "byteLimit": 2048000,
      "rowLimit": 10000
     },
     "inputWidgets": {},
     "nuid": "477d1a2e-7979-48b5-b56d-3278e7506351",
     "showTitle": false,
     "tableResultSettingsMap": {},
     "title": ""
    }
   },
   "source": [
    "# Import Libraries"
   ]
  },
  {
   "cell_type": "code",
   "execution_count": 0,
   "metadata": {
    "application/vnd.databricks.v1+cell": {
     "cellMetadata": {
      "byteLimit": 2048000,
      "rowLimit": 10000
     },
     "inputWidgets": {},
     "nuid": "d1d465db-3643-43eb-abab-1f1b4426041c",
     "showTitle": false,
     "tableResultSettingsMap": {},
     "title": ""
    }
   },
   "outputs": [],
   "source": [
    "from typing import Annotated, Literal\n",
    "import mlflow\n",
    "from monai.bundle import run\n",
    "from monai.bundle.config_parser import ConfigParser\n",
    "import pandas as pd\n"
   ]
  },
  {
   "cell_type": "markdown",
   "metadata": {
    "application/vnd.databricks.v1+cell": {
     "cellMetadata": {
      "byteLimit": 2048000,
      "rowLimit": 10000
     },
     "inputWidgets": {},
     "nuid": "2c2d4dc6-827d-49cd-a7b2-9170ba6d9558",
     "showTitle": false,
     "tableResultSettingsMap": {},
     "title": ""
    }
   },
   "source": [
    "# Get classification for an Mammogram Image using Monai Model Zoo "
   ]
  },
  {
   "cell_type": "code",
   "execution_count": 0,
   "metadata": {
    "application/vnd.databricks.v1+cell": {
     "cellMetadata": {
      "byteLimit": 2048000,
      "rowLimit": 10000
     },
     "inputWidgets": {},
     "nuid": "8534d2eb-14cd-474b-b055-fac57873cdc3",
     "showTitle": false,
     "tableResultSettingsMap": {},
     "title": ""
    }
   },
   "outputs": [],
   "source": [
    "\n",
    "\n",
    "def get_breast_density_classification(image_url : Annotated[str, \"the local path of the image\"]) -> dict:\n",
    "\n",
    "    d= {\"data\": {\n",
    "    \"_target_\": \"createList.CreateImagefromJson\",\n",
    "    \"J\": {\"image\" : image_url}}}\n",
    "    config_file = \"../configs/inference_new.json\"\n",
    "    parser = ConfigParser()    \n",
    "    parser.read_config(config_file)\n",
    "    run(config_file=config_file, workflow_type=\"inference\",**d)\n",
    "\n",
    "    data = parser.get_parsed_content(\"output_dir\")\n",
    "    df = pd.read_csv(f\"{data}/predictions.csv\",header=None)\n",
    "    return {\"Output\": chr(ord('@')+df[[1,2,3,4]].idxmax('columns')[0])}\n"
   ]
  },
  {
   "cell_type": "code",
   "execution_count": 0,
   "metadata": {
    "application/vnd.databricks.v1+cell": {
     "cellMetadata": {
      "byteLimit": 2048000,
      "rowLimit": 10000
     },
     "inputWidgets": {},
     "nuid": "daedcf72-fa30-49c3-9281-7a24b837e071",
     "showTitle": false,
     "tableResultSettingsMap": {},
     "title": ""
    }
   },
   "outputs": [],
   "source": [
    "image_path = \"../sample_data/D/sample_D3.jpg\"\n",
    "get_breast_density_classification(image_path)"
   ]
  },
  {
   "cell_type": "code",
   "execution_count": 0,
   "metadata": {
    "application/vnd.databricks.v1+cell": {
     "cellMetadata": {
      "byteLimit": 2048000,
      "rowLimit": 10000
     },
     "inputWidgets": {},
     "nuid": "08cecd4b-1817-4d1f-bfce-f31126cf78ef",
     "showTitle": false,
     "tableResultSettingsMap": {},
     "title": ""
    }
   },
   "outputs": [],
   "source": [
    "# Load Secret if running locally else get in-context secret\n",
    "from dotenv import load_dotenv\n",
    "from pathlib import Path\n",
    "import os\n",
    "\n",
    "dotenv_path = Path('.env')\n",
    "load_dotenv(dotenv_path=dotenv_path)\n",
    "# \n"
   ]
  },
  {
   "cell_type": "code",
   "execution_count": 0,
   "metadata": {
    "application/vnd.databricks.v1+cell": {
     "cellMetadata": {
      "byteLimit": 2048000,
      "rowLimit": 10000
     },
     "inputWidgets": {},
     "nuid": "5e636289-b06e-42c9-a992-6c2f5725359f",
     "showTitle": false,
     "tableResultSettingsMap": {},
     "title": ""
    }
   },
   "outputs": [],
   "source": [
    "import base64\n",
    "from openai import OpenAI\n",
    "from mlflow.utils.databricks_utils import get_databricks_host_creds\n",
    "\n",
    "workspace_host = \"https://adb-984752964297111.11.azuredatabricks.net\"\n",
    "endpoint = f\"{workspace_host}/serving-endpoints\"\n",
    "token = get_databricks_host_creds().token \n",
    "\n",
    "# Initialize the OpenAI client with the Databricks serving endpoint\n",
    "client = OpenAI(\n",
    "    base_url=endpoint,\n",
    "    api_key=token\n",
    ")\n",
    "\n",
    "\n",
    "\n",
    "# Function to encode the image\n",
    "def encode_image(image_path):\n",
    "  with open(image_path, \"rb\") as image_file:\n",
    "    return base64.b64encode(image_file.read()).decode('utf-8')\n",
    "\n",
    "# Getting the base64 string\n",
    "base64_image = encode_image(image_path)\n",
    "\n",
    "response = client.chat.completions.create(\n",
    "  model=\"intern-38b\",\n",
    "  messages=[\n",
    "    {\"role\": \"user\", \n",
    "    \"content\": [\n",
    "                {\n",
    "                    \"type\": \"image_url\",\n",
    "                    \"image_url\": {\n",
    "                      \"url\": \"https://www.arsenal.com/sites/default/files/styles/large_16x9/public/images/saka-celeb-bayern.png?h=3c8f2bed&auto=webp&itok=Twjeu8tug\"\n",
    "                    },\n",
    "                },\n",
    "            ],\n",
    "    },\n",
    "    # {\"role\": \"user\", \n",
    "    # \"content\": [\n",
    "    #             {\n",
    "    #                 \"type\": \"text\",\n",
    "    #                 \"text\": \"What's the weather like in San Francisco?\"\n",
    "            \n",
    "    # }\n",
    "    # ]\n",
    "    # }\n",
    "  ],\n",
    "  tools = [{\n",
    "    \"type\": \"function\",\n",
    "    \"function\": {\n",
    "        \"name\": \"get_player_information\",\n",
    "        \"description\": \"This functions gets all details about a player shown in the image including where he is male/female and club affiliation\",\n",
    "        \"parameters\": {\n",
    "            \"type\": \"object\",\n",
    "            \"properties\": {\n",
    "                \"team\": {\n",
    "                    \"type\":\n",
    "                    \"string\",\n",
    "                    \"description\":\n",
    "                    \"The sports club or team the player belongs to can be from any sport\"\n",
    "                },\n",
    "                \"gender\": {\n",
    "                    \"type\":\n",
    "                    \"string\",\n",
    "                    \"description\":\n",
    "                    \"The gender of the player can be either male or female or 'no player found'\",\n",
    "                },\n",
    "            },\n",
    "            \"required\": [\"team\", \"gender\"]\n",
    "        }\n",
    "    }\n",
    "},\n",
    "{\n",
    "    \"type\": \"function\",\n",
    "    \"function\": {\n",
    "        \"name\": \"get_weather\",\n",
    "        \"description\": \"Get the current weather in a given location\",\n",
    "        \"parameters\": {\n",
    "            \"type\": \"object\",\n",
    "            \"properties\": {\n",
    "                \"location\": {\"type\": \"string\", \"description\": \"City and state, e.g., 'San Francisco, CA'\"},\n",
    "                \"unit\": {\"type\": \"string\", \"enum\": [\"celsius\", \"fahrenheit\"]}\n",
    "            },\n",
    "            \"required\": [\"location\", \"unit\"]\n",
    "        }\n",
    "    }\n",
    "}\n",
    "],\n",
    "# tool_choice={\"type\": \"function\", \"function\": {\"name\": \"get_player_information\"}},\n",
    "  temperature=0.1,\n",
    "  max_tokens=200,\n",
    "\n",
    ")\n",
    "\n",
    "print(response)"
   ]
  },
  {
   "cell_type": "code",
   "execution_count": 0,
   "metadata": {
    "application/vnd.databricks.v1+cell": {
     "cellMetadata": {
      "byteLimit": 2048000,
      "rowLimit": 10000
     },
     "inputWidgets": {},
     "nuid": "48069a3d-3eb2-4baf-98bb-af4b60308de1",
     "showTitle": false,
     "tableResultSettingsMap": {},
     "title": ""
    }
   },
   "outputs": [],
   "source": [
    "import json\n",
    "import os\n",
    "import random\n",
    "import time\n",
    "from typing import Any, Callable, Dict, List, Optional, Tuple, Type, Union\n",
    "\n",
    "import matplotlib.pyplot as plt\n",
    "import numpy as np\n",
    "from PIL import Image\n",
    "from termcolor import colored\n",
    "\n",
    "import autogen\n",
    "from autogen import Agent, AssistantAgent, ConversableAgent, UserProxyAgent\n",
    "from autogen.agentchat.contrib.capabilities.vision_capability import VisionCapability\n",
    "from autogen.agentchat.contrib.img_utils import get_pil_image, pil_to_data_uri\n",
    "from autogen.code_utils import content_str"
   ]
  },
  {
   "cell_type": "code",
   "execution_count": 0,
   "metadata": {
    "application/vnd.databricks.v1+cell": {
     "cellMetadata": {
      "byteLimit": 2048000,
      "rowLimit": 10000
     },
     "inputWidgets": {},
     "nuid": "65a5768a-304c-486c-8b91-fee7cdb0fc39",
     "showTitle": false,
     "tableResultSettingsMap": {},
     "title": ""
    }
   },
   "outputs": [],
   "source": [
    "llm_config = {\n",
    "    \"config_list\": [\n",
    "        {\n",
    "            \"model\": \"intern-38b\",\n",
    "            \"api_key\": token,\n",
    "            \"base_url\": endpoint,\n",
    "        }\n",
    "    ],\n",
    "    \"temperature\": 0.5,\n",
    "    \"max_tokens\": 500\n",
    "}"
   ]
  },
  {
   "cell_type": "code",
   "execution_count": 0,
   "metadata": {
    "application/vnd.databricks.v1+cell": {
     "cellMetadata": {
      "byteLimit": 2048000,
      "rowLimit": 10000
     },
     "inputWidgets": {},
     "nuid": "5101edef-0053-48c0-b8aa-35cd09aa0170",
     "showTitle": false,
     "tableResultSettingsMap": {},
     "title": ""
    }
   },
   "outputs": [],
   "source": [
    "import os\n",
    "\n",
    "from autogen import ConversableAgent\n",
    "from autogen.agentchat.contrib.multimodal_conversable_agent import MultimodalConversableAgent\n",
    "\n",
    "# Let's first define the assistant agent that suggests tool calls.\n",
    "assistant_p = MultimodalConversableAgent(\n",
    "    name=\"image-explainer\",\n",
    "    max_consecutive_auto_reply=10,\n",
    "    llm_config={\"config_list\": llm_config['config_list']},\n",
    "    system_message= \"you are an mammogram image analyser your job is to classify the breast density based on the mammogram provided use the tools in your you have specified and give explanation about the implications\"\n",
    "    \"Return 'TERMINATE' when the task is done.\"\n",
    ")\n",
    "\n",
    "# The user proxy agent is used for interacting with the assistant agent\n",
    "# and executes tool calls.\n",
    "user_proxy = ConversableAgent(\n",
    "    name=\"User\",\n",
    "    llm_config=False,\n",
    "    is_termination_msg=lambda msg: msg.get(\"content\") is not None and \"TERMINATE\" in msg[\"content\"],\n",
    "    human_input_mode=\"NEVER\",\n",
    ")\n",
    "\n",
    "# Register the tool signature with the assistant agent.\n",
    "assistant_p.register_for_llm(name=\"get_breast_density_classification\", \n",
    "                           description=\"This a function which takes an input path which can be local path and gives classification of Density of the mammogram\")(get_breast_density_classification)\n",
    "\n",
    "# Register the tool function with the user proxy agent.\n",
    "user_proxy.register_for_execution(name=\"get_breast_density_classification\")(get_breast_density_classification)"
   ]
  },
  {
   "cell_type": "code",
   "execution_count": 0,
   "metadata": {
    "application/vnd.databricks.v1+cell": {
     "cellMetadata": {
      "byteLimit": 2048000,
      "rowLimit": 10000
     },
     "inputWidgets": {},
     "nuid": "9dfa9fb0-be17-40ec-a1ea-e3e25afd8c8c",
     "showTitle": false,
     "tableResultSettingsMap": {},
     "title": ""
    }
   },
   "outputs": [],
   "source": [
    "from autogen import register_function\n",
    "\n",
    "# Register the calculator function to the two agents.\n",
    "register_function(\n",
    "    get_breast_density_classification,\n",
    "    caller=assistant_p,  # The assistant agent can suggest calls to the calculator.\n",
    "    executor=user_proxy,  # The user proxy agent can execute the calculator calls.\n",
    "    name=\"get_breast_density_classification\",  # By default, the function name is used as the tool name.\n",
    "    description=\"This a function which takes an input path which can be local path and gives classification of Density of the mammogram\",  # A description of the tool.\n",
    ")"
   ]
  },
  {
   "cell_type": "code",
   "execution_count": 0,
   "metadata": {
    "application/vnd.databricks.v1+cell": {
     "cellMetadata": {
      "byteLimit": 2048000,
      "rowLimit": 10000
     },
     "inputWidgets": {},
     "nuid": "fc3acbbd-8e85-4657-b43a-eff38103f2f0",
     "showTitle": false,
     "tableResultSettingsMap": {},
     "title": ""
    }
   },
   "outputs": [],
   "source": [
    "# Ask the question with an image\n",
    "# open method used to open different extension image file\n",
    "# Imports PIL module\n",
    "from PIL import Image\n",
    "im = Image.open(image_path)\n",
    "\n",
    "user_proxy.initiate_chat(\n",
    "    assistant_p,\n",
    "    message = {\n",
    "\n",
    "                \"content\": \n",
    "                    [   {\"type\": \"text\",\"text\" : f\" local path of the mammogram  {image_path}\"},\n",
    "                        {\"type\": \"image_url\", \"image_url\": {\"url\": im}},\n",
    "                        # {\"type\": \"text\",\"text\": \" classify the density of the breast?\"}\n",
    "                        ],\n",
    "            }\n",
    ")"
   ]
  }
 ],
 "metadata": {
  "application/vnd.databricks.v1+notebook": {
   "computePreferences": null,
   "dashboards": [],
   "environmentMetadata": null,
   "language": "python",
   "notebookMetadata": {
    "pythonIndentUnit": 2
   },
   "notebookName": "function_calling_demo",
   "widgets": {}
  },
  "kernelspec": {
   "display_name": "base",
   "language": "python",
   "name": "python3"
  },
  "language_info": {
   "name": "python"
  }
 },
 "nbformat": 4,
 "nbformat_minor": 0
}
